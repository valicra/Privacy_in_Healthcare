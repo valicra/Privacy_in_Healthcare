{
 "cells": [
  {
   "cell_type": "markdown",
   "id": "6fba171c",
   "metadata": {},
   "source": [
    "# Ecercise sheet 1"
   ]
  },
  {
   "cell_type": "markdown",
   "id": "652b6653",
   "metadata": {},
   "source": [
    "## Exercise 1: Theoretical questions\n",
    "\n",
    "\n",
    "\n",
    "### Exercise 1.1\n",
    "\n",
    "Explain collision resistance in your own words. Write your answer in the cell below."
   ]
  },
  {
   "cell_type": "markdown",
   "id": "6979a142",
   "metadata": {},
   "source": [
    "For an hash function $H()$ being collision resistant means that for any pair of input $x$ and $y$ , with $x \\neq y$ we'll have that $H(x) \\neq H(y) $. Formally, collision may happen but we're interested in making the computationally infeasible. "
   ]
  },
  {
   "cell_type": "markdown",
   "id": "45b3a699",
   "metadata": {},
   "source": [
    "## Exercise 1.2\n",
    "\n",
    "What’s the difference between puzzle-friendliness (p.f.) and hiding? Explain\n",
    "in your own words. Write your answer in the cell below."
   ]
  },
  {
   "cell_type": "markdown",
   "id": "3219b4d9",
   "metadata": {},
   "source": [
    "We can consider hiding as a special case of p.f.. \\\n",
    "In p.f. We want the $x$ of $H(k||x) = y$ being hard to find, but not infeasible since our goal is to allow for a puzzle solution. In the case of hiding, finding $x$ must be infeasible since our goal is to avoid the reconstruction of $x$ by means of its hash value $y$. \n",
    "So, hiding is just a special case of p.f where the output space $Y$ is simply the singleton ${y}$. "
   ]
  },
  {
   "cell_type": "markdown",
   "id": "5d9f9790",
   "metadata": {},
   "source": [
    "## Exercise 2: A very simple block chain "
   ]
  },
  {
   "cell_type": "markdown",
   "id": "79f2772b",
   "metadata": {},
   "source": [
    "Some helpful links: \n",
    "1. https://www.geeksforgeeks.org/how-to-get-value-from-address-in-python/\n",
    "2. https://datagy.io/python-sha256/"
   ]
  },
  {
   "cell_type": "markdown",
   "id": "0ac72b67",
   "metadata": {},
   "source": [
    "Below you can find some imports that might be useful. The 'hashlib' library includes various hashing algorithms such as hashlib.sha256. 'datetime' allows you to get the exact time and could be used to generate the timestamps. Finally 'json' is needed to encode the blocks (dictionaries), so that hashlib can use them as input to their hashing algorithms.\n",
    "\n",
    "Hint: In CPython, you can use id(object) to get the pointer to a PyObject."
   ]
  },
  {
   "cell_type": "code",
   "execution_count": 3,
   "id": "a7a34872",
   "metadata": {},
   "outputs": [],
   "source": [
    "# imports\n",
    "import hashlib\n",
    "import datetime\n",
    "import json\n",
    "import ctypes"
   ]
  },
  {
   "cell_type": "markdown",
   "id": "2a4c9522",
   "metadata": {},
   "source": [
    "The three dictionaries below represent hypothetical transactions and serve as the inputs to the three blocks of our simple block chain that you are supposed to create. This means, that in each block that you create with the classes block() and simple_block_chain(), you should enclose one of the three transaction dictionaries."
   ]
  },
  {
   "cell_type": "code",
   "execution_count": 1,
   "id": "dd4ba265",
   "metadata": {},
   "outputs": [],
   "source": [
    "transactions_1 = {\n",
    "    't1': 'Alice sends 10 BTC to Bob',\n",
    "    't2': 'Charlie sends 2.5 BTC to Bob',\n",
    "    't3': 'Bob sends 5 BTC to Sarah'\n",
    "}\n",
    "\n",
    "transactions_2 = {\n",
    "    't1': 'Bob sends 4.5 BTC to Tim',\n",
    "    't2': 'Sarah sends 1 BTC to Mary',\n",
    "    't3': 'Paul sends 2 BTC to Jessica'\n",
    "}\n",
    "\n",
    "transactions_3 = {\n",
    "    't1': 'Jessica sends 1.5 BTC to Charlie',\n",
    "    't2': 'Jessica sends 0.05 BTC to Carmen',\n",
    "    't3': 'Steffan sends 3.12 BTC to Michel'\n",
    "}"
   ]
  },
  {
   "cell_type": "markdown",
   "id": "0d64a7da",
   "metadata": {},
   "source": [
    "The Genesis block: The Genesis block is the first block in our simple block chain. Use it as the starting point to create new blocks. This means, that the first block that you create should include a hash pointer to the genesis block. The second block you create should include a hash pointer to the first block you created and so on.\n",
    "\n",
    "Note, that no transactions are enclosed in our Genesis block. Theoretically this would be possible though."
   ]
  },
  {
   "cell_type": "code",
   "execution_count": 4,
   "id": "cd63bdf9",
   "metadata": {},
   "outputs": [
    {
     "data": {
      "text/plain": [
       "{'timestamp': '2023-11-08 10:54:16.997192',\n",
       " 'previous_block_hash': 'There is no previous block',\n",
       " 'pointer': 'There is no pointer to a previous block'}"
      ]
     },
     "execution_count": 4,
     "metadata": {},
     "output_type": "execute_result"
    }
   ],
   "source": [
    "genesis_block = {\n",
    "            'timestamp': str(datetime.datetime.now()),\n",
    "            'previous_block_hash': 'There is no previous block',\n",
    "            'pointer' : 'There is no pointer to a previous block'\n",
    "        }\n",
    "genesis_block"
   ]
  },
  {
   "cell_type": "markdown",
   "id": "2852cb49",
   "metadata": {},
   "source": [
    "In the cell below you can find some sample code, that allows you to create a hash pointer to a block (here this block is the Genesis block). In our case, a hash pointer is a dictionary with two key:value pairs: 'previous_block_hash' (the hash of the previous block) and 'pointer' (the pointer to the previous block). You can use this hash pointer structure to get access to the hash and pointer of the previous block when implementing the classes block() and simple_block_chain()."
   ]
  },
  {
   "cell_type": "code",
   "execution_count": 5,
   "id": "a056781b",
   "metadata": {},
   "outputs": [
    {
     "data": {
      "text/plain": [
       "{'previous_block_hash': '6354db1ad8ecab4332fd982feb17a70ab0c47e1125e0e35a698a11207ec1fc7c',\n",
       " 'pointer': 2804893317056}"
      ]
     },
     "execution_count": 5,
     "metadata": {},
     "output_type": "execute_result"
    }
   ],
   "source": [
    "#get the address in memory (the pointer) of the genesis block\n",
    "genesis_id = id(genesis_block)\n",
    "\n",
    "#get the hash of the genesis block\n",
    "genesis_encoded = json.dumps(genesis_block, sort_keys=True).encode() \n",
    "genesis_hash = hashlib.sha256(genesis_encoded).hexdigest()\n",
    "\n",
    "#hash pointer of genesis block\n",
    "genesis_hash_pointer = {\n",
    "    'previous_block_hash' : genesis_hash,\n",
    "    'pointer' : genesis_id\n",
    "}\n",
    "\n",
    "genesis_hash_pointer"
   ]
  },
  {
   "cell_type": "markdown",
   "id": "ac5e2f17",
   "metadata": {},
   "source": [
    "### Exercise 2.1"
   ]
  },
  {
   "cell_type": "code",
   "execution_count": 6,
   "id": "d07b8f44",
   "metadata": {},
   "outputs": [],
   "source": [
    "class Block(object):\n",
    "    def __init__(self):\n",
    "        '''\n",
    "        Upon instantiation, create an empty block of type dictionary.\n",
    "        self.prev_block is set to None. This should be updated to the previous block (dictionary).\n",
    "        self.prev_block_hash is set to None. This should be updated to the hash of the previous block.\n",
    "        self.prev_block_pointer is set to None. This should be updated to the pointer to the previous \n",
    "        block.\n",
    "        '''\n",
    "        self.block = {}\n",
    "        self.prev_block = None\n",
    "        self.prev_block_hash = None\n",
    "        self.prev_block_pointer = None\n",
    "    \n",
    "    def get_previous_block(self, pointer): \n",
    "        '''\n",
    "        Use the pointer to the previous block (stored in the corresponding hash pointer) to get the \n",
    "        previous block from memory. Update self.prev_block.\n",
    "        Hint: Use ctypes.cast, refer to the links provided above for a short introduction.\n",
    "        pointer: Address in memory of the previous block.\n",
    "        '''\n",
    "        self.prev_block = ctypes.cast(pointer, ctypes.py_object).value\n",
    "        self.prev_block_hash = self.block['previous_block_hash'] \n",
    "        self.prev_block_pointer = self.block['pointer']\n",
    "        \n",
    "     \n",
    "    def verify_block_content(self, hash_of_prev_block):\n",
    "        '''\n",
    "        This method receives the hash of the previous block as input (we get it from the corresponding\n",
    "        hash pointer) and verifies, whether or not the block that we store in self.prev block has \n",
    "        changed since we last visited the block. Compare the hashes, if they don't match, throw an \n",
    "        exception.\n",
    "        hash_of_prev_block: Hash of the previous block\n",
    "        '''\n",
    "        \n",
    "        if hash_of_prev_block != self.prev_block_hash:\n",
    "            raise Exception ('Hash values does not correspond' )\n",
    "\n",
    "\n",
    "\n",
    "    \n",
    "    def create_new_block(self, hash_pointer: dict, transactions: dict):\n",
    "        '''\n",
    "        Create a new block, given a hash pointer and some transactions.\n",
    "        hash_pointer: The hash pointer to the previous block of type dictionary\n",
    "        transactions: Some transactions that should be enclosed in the new block (type dictionary)\n",
    "        return: Return the new block\n",
    "        '''\n",
    "        \n",
    "        new_block = Block()  # Create a new instance of the Block class\n",
    "\n",
    "        # Set the attributes of the new block\n",
    "        new_block.block = {\n",
    "            'timestamp': str(datetime.datetime.now()),\n",
    "            **hash_pointer,\n",
    "            **transactions\n",
    "        }\n",
    "        new_block.prev_block=self\n",
    "        return new_block\n",
    "\n",
    "             "
   ]
  },
  {
   "cell_type": "markdown",
   "id": "d588366e",
   "metadata": {},
   "source": [
    "### Exercise 2.2"
   ]
  },
  {
   "cell_type": "code",
   "execution_count": 18,
   "id": "5746ca54",
   "metadata": {},
   "outputs": [],
   "source": [
    "class simple_block_chain(object):\n",
    "    def __init__(self):\n",
    "        '''\n",
    "        self.latest_hash_pointer: Set to the hash pointer of the genesis block, as this is the first\n",
    "        block in our simple block chain. This should be updated whenever a new block is created.\n",
    "        \n",
    "        self.newest_block: Set to the genesis block. This should be updated when a new block is\n",
    "        created.\n",
    "        \n",
    "        self.chain: Store the blocks of the block chain recursively in self.chain. This means, that \n",
    "        the first element is the head of the block chain and the last element is the genesis block.\n",
    "        '''\n",
    "        gen_block= Block() # converting genesis block to a Block class s.t. we can safely use gen_block.create_new_block()\n",
    "        gen_block.block= genesis_block \n",
    "        \n",
    "        self.latest_hash_pointer = genesis_hash_pointer\n",
    "        self.newest_block = gen_block \n",
    "        self.chain = []\n",
    "    \n",
    "    def create_block(self, transactions: dict):\n",
    "        '''\n",
    "        Use the newly implemented class block() and its method create_new_block() to create a new \n",
    "        block.\n",
    "        Update self.newest_block and self.latest_hash_pointer whenever a new block is created.\n",
    "        transactions: Dictionary with transactions that should be enclosed in the next block\n",
    "        '''\n",
    "            \n",
    "        new_block= self.newest_block.create_new_block(self.latest_hash_pointer, transactions)\n",
    "        \n",
    "        new_block_id = id(new_block)\n",
    "\n",
    "        #get the hash of the genesis block\n",
    "        new_block_encoded = json.dumps(new_block.block, sort_keys=True).encode() \n",
    "        new_block_hash = hashlib.sha256(new_block_encoded).hexdigest()\n",
    "\n",
    "        #hash pointer of genesis block\n",
    "        new_block_hash_pointer = {\n",
    "            'previous_block_hash' : new_block_hash,\n",
    "            'pointer' : new_block_id\n",
    "        }\n",
    "        \n",
    "        self.latest_hash_pointer= new_block_hash_pointer\n",
    "        self.newest_block = new_block\n",
    "        \n",
    "                \n",
    "        \n",
    "    def get_head_of_block_chain(self):\n",
    "        '''\n",
    "        Return the head of the block chain. The head of a block chain is the newest block.\n",
    "        '''\n",
    "        return self.newest_block \n",
    "        \n",
    "    \n",
    "    def get_chain_recursively(self, hash_pointer):\n",
    "        '''\n",
    "        This method receives a hash pointer as input and stores the corresponding block and its \n",
    "        predecessors (all blocks that were created before) in self.chain. When you reach the Genesis\n",
    "        block, stop and return self.chain. \n",
    "        '''\n",
    "\n",
    "        \n",
    "        current_block = ctypes.cast(hash_pointer['pointer'], ctypes.py_object).value\n",
    "        \n",
    "        if type(current_block)==dict: #for some reason the genesis block becomes of type dict when i try to retrieve it, \n",
    "                                      #but when i create the blockchain it is from Block class\n",
    "            return self.chain\n",
    "       \n",
    "        self.chain.append(current_block.block) \n",
    "        \n",
    "        current_block.get_previous_block(current_block.block['pointer'])\n",
    "        \n",
    "        prev_hash_pointer = {\n",
    "            'previous_block_hash': current_block.prev_block_hash,\n",
    "            'pointer': current_block.prev_block_pointer\n",
    "        }\n",
    "    \n",
    "        return(self.get_chain_recursively(prev_hash_pointer))\n",
    "\n",
    "    \n",
    "    \n",
    "        "
   ]
  },
  {
   "cell_type": "markdown",
   "id": "369d6f22",
   "metadata": {},
   "source": [
    "### Exercise 2.3 \n",
    "\n",
    "Now, use your new classes block() and simple_block_chain() to build a block chain with four blocks in total: The Genesis block and three blocks in which transactions_1, transactions_2 and transactions_3 are enclosed. Use the Genesis block and its hash pointer as starting point."
   ]
  },
  {
   "cell_type": "code",
   "execution_count": 22,
   "id": "26cea85a",
   "metadata": {},
   "outputs": [],
   "source": [
    "#instanciate blockchain\n",
    "blockchain=simple_block_chain()"
   ]
  },
  {
   "cell_type": "code",
   "execution_count": 23,
   "id": "8a11e17c",
   "metadata": {},
   "outputs": [],
   "source": [
    "# generate 3 blocks\n",
    "blockchain.create_block(transactions_1)\n",
    "blockchain.create_block(transactions_2)\n",
    "blockchain.create_block(transactions_3)"
   ]
  },
  {
   "cell_type": "code",
   "execution_count": 26,
   "metadata": {},
   "outputs": [
    {
     "data": {
      "text/plain": [
       "{'timestamp': '2023-11-08 10:58:38.646472',\n",
       " 'previous_block_hash': '5560ae21d8b353c720fed61d57d8db2c50ba1a73dba455c473e0aec57cd3c6cc',\n",
       " 'pointer': 2804876670480,\n",
       " 't1': 'Jessica sends 1.5 BTC to Charlie',\n",
       " 't2': 'Jessica sends 0.05 BTC to Carmen',\n",
       " 't3': 'Steffan sends 3.12 BTC to Michel'}"
      ]
     },
     "execution_count": 26,
     "metadata": {},
     "output_type": "execute_result"
    }
   ],
   "source": [
    "blockchain.get_head_of_block_chain()"
   ]
  },
  {
   "cell_type": "code",
   "execution_count": 27,
   "id": "443d289b",
   "metadata": {},
   "outputs": [],
   "source": [
    "chain = blockchain.get_chain_recursively(blockchain.latest_hash_pointer)"
   ]
  },
  {
   "cell_type": "code",
   "execution_count": 29,
   "metadata": {},
   "outputs": [
    {
     "data": {
      "text/plain": [
       "[{'timestamp': '2023-11-08 10:58:38.646472',\n",
       "  'previous_block_hash': '5560ae21d8b353c720fed61d57d8db2c50ba1a73dba455c473e0aec57cd3c6cc',\n",
       "  'pointer': 2804876670480,\n",
       "  't1': 'Jessica sends 1.5 BTC to Charlie',\n",
       "  't2': 'Jessica sends 0.05 BTC to Carmen',\n",
       "  't3': 'Steffan sends 3.12 BTC to Michel'},\n",
       " {'timestamp': '2023-11-08 10:58:38.646472',\n",
       "  'previous_block_hash': '4e3c4e31f2d85327ff4b001ce6b06428214e061ec498c88da89f925e66796d74',\n",
       "  'pointer': 2804876665968,\n",
       "  't1': 'Bob sends 4.5 BTC to Tim',\n",
       "  't2': 'Sarah sends 1 BTC to Mary',\n",
       "  't3': 'Paul sends 2 BTC to Jessica'},\n",
       " {'timestamp': '2023-11-08 10:58:38.641342',\n",
       "  'previous_block_hash': '6354db1ad8ecab4332fd982feb17a70ab0c47e1125e0e35a698a11207ec1fc7c',\n",
       "  'pointer': 2804893317056,\n",
       "  't1': 'Alice sends 10 BTC to Bob',\n",
       "  't2': 'Charlie sends 2.5 BTC to Bob',\n",
       "  't3': 'Bob sends 5 BTC to Sarah'}]"
      ]
     },
     "execution_count": 29,
     "metadata": {},
     "output_type": "execute_result"
    }
   ],
   "source": [
    "chain"
   ]
  },
  {
   "cell_type": "markdown",
   "id": "faeb4c57",
   "metadata": {},
   "source": [
    "### Exercise 2.4\n",
    "\n",
    "Change one of the transactions that we use as block input. What do you\n",
    "observe or would expect to oberve (in case you were not able to implement both classes) if\n",
    "you would create a new block with the updated transactions? In what way does the new\n",
    "block differ to the block that was created with the original transactions?"
   ]
  },
  {
   "cell_type": "markdown",
   "id": "85f6e6b2",
   "metadata": {},
   "source": [
    "If we create a new block with the updated transactions, the block will have his hash value and id which will serve as ab hash pointer for the next block, and it will also contain the hash pointer from the previous block along with its timestamp and corresponding transactions. So, the hash value and pointer of the two blocks will differ leading to an inconsistency in the blockchain. If the purpose of the transaction update is about manipulating the content of an already verified block, this will be immediately detected by the fact that the new block will store a wrong pointer and hash value. "
   ]
  }
 ],
 "metadata": {
  "kernelspec": {
   "display_name": "Python 3 (ipykernel)",
   "language": "python",
   "name": "python3"
  },
  "language_info": {
   "codemirror_mode": {
    "name": "ipython",
    "version": 3
   },
   "file_extension": ".py",
   "mimetype": "text/x-python",
   "name": "python",
   "nbconvert_exporter": "python",
   "pygments_lexer": "ipython3",
   "version": "3.10.11"
  }
 },
 "nbformat": 4,
 "nbformat_minor": 5
}
