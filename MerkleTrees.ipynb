{
 "cells": [
  {
   "cell_type": "markdown",
   "id": "87efd212",
   "metadata": {},
   "source": [
    "# Exercise sheet 2"
   ]
  },
  {
   "cell_type": "markdown",
   "id": "dd96c792",
   "metadata": {},
   "source": [
    "Please write the names of all group members here:\n",
    "\n",
    "Names: Vali Florinel Craciun, Javohir Isomurodov"
   ]
  },
  {
   "cell_type": "markdown",
   "id": "45363926",
   "metadata": {},
   "source": [
    "## Exercise 1: Theoretical questions"
   ]
  },
  {
   "cell_type": "markdown",
   "id": "45f6e6e5",
   "metadata": {},
   "source": [
    "## Exercise 1.1: \n",
    "    \n",
    "Recall the basic cryptocurrency ScroogeCoin from the\n",
    "lecure. In ScroogeCoin, suppose Mallory tries to generate (sk, pk) pairs until her\n",
    "secret key matches someone else’s. What will she be able to do and how long will it\n",
    "take before she succeeds on average? What if Alice’s random number generator has\n",
    "a bug and her key generation procedure produces only 1,000 distinct pairs?"
   ]
  },
  {
   "cell_type": "markdown",
   "id": "bf30ab44",
   "metadata": {},
   "source": [
    "Generating $(sk,pk)$ pairs untill a match with an already existing $(sk,pk)$ pair is found can be translated in trying to find a collision, where two different rounds of `generateKeys(keysize)` lead to the same output. \n",
    "If we consider strings of 256-bits as keysize this means that, for the birthday paradox, that we need roughly $2^{\\frac{256}{2}}$ hashes before getting a collision. \n",
    "If Alice's keys output space is reduced from $2^{256}$ to 1000, this means that Mallory will need only roughly $2^5$ trials, i.e 32 rounds. \n",
    "If Mallory is able to get Alice's sk she could forge Alice's signature and so sign documents on her behalf given that the `verify(pk,message,sig)` will always return True. "
   ]
  },
  {
   "cell_type": "markdown",
   "id": "3382b094",
   "metadata": {},
   "source": [
    "## Exercise 1.2:\n",
    "\n",
    "How does Bitcoin achieve consensus? How does consensus prevent double-spending? "
   ]
  },
  {
   "cell_type": "markdown",
   "id": "217b80e5",
   "metadata": {},
   "source": [
    "Consensus in Bitcoin is achieved in few steps:\n",
    "- Each node collects a set of transactions to be presented as a block\n",
    "- A random node is elected to propose his block\n",
    "- Each other node verifies the content of the proposed block (coin is unspent, signatures are valid...)\n",
    "- the voting happens: if the majority of nodes accept the block this gets confirmed and appended to the blockchain. His hash value and memory address will be included in the next block. \n",
    "\n",
    "This is what happens theoretically, but not practically. Real voting present some issues s.t.:\n",
    "- vote multiplication by malicious nodes by creating multiple identities\n",
    "- latency problems\n",
    "- vote counting\n",
    "\n",
    "A solution for this isssue is the so called \"implicit consensus\". In this setting the voting is made by simply including the suggested block's hash in the next block. If node majority does this, the probability of building on the proposed block is very high and the opposite happens if the majority is not reached. An important note to add is that implicit consensus works if the probability of picking an honest node leader is greather than 50%. \n",
    "\n",
    "\n",
    "\n",
    "Consensus prevent double spending by trying to get rid of branches in the blockchain as much as possible. \n",
    "Whenever a double spending attack happens both transactions are kept alive and, eventually, included in blocks. The blockchain is continued on the block received first and after some time the block containing the second transaction is added to the blockchain. This is where a branch starts because the 2 blocks referes to the same previous block. Since we need to get rid of branches, we need to decide which block to keep and which to abandon and this is done using confirmations. So, we initially allow double spending, untill one of the two blocks reaches at least k confirmations. When this happens the creator of the \"good\" block gets his reward, while the \"bad\" (also called orphan) block gets eliminated from the blockchain, leaving his creator without reward. "
   ]
  },
  {
   "cell_type": "markdown",
   "id": "31cb0827",
   "metadata": {},
   "source": [
    "## Exercise 2: Merkle Trees"
   ]
  },
  {
   "cell_type": "markdown",
   "id": "bda8166c",
   "metadata": {},
   "source": [
    "Below you can find some useful imports "
   ]
  },
  {
   "cell_type": "code",
   "execution_count": 5,
   "id": "76f92028",
   "metadata": {},
   "outputs": [],
   "source": [
    "# imports\n",
    "import hashlib\n",
    "import json\n",
    "import ctypes"
   ]
  },
  {
   "cell_type": "markdown",
   "id": "a9d4aeb1",
   "metadata": {},
   "source": [
    "Below you can find some sample transactions with which you can build a Merkle tree. You can also use them to verify, whether or not your MerkleTree() class can handle an even and uneven number of leaves."
   ]
  },
  {
   "cell_type": "code",
   "execution_count": 6,
   "id": "3ccd769b",
   "metadata": {},
   "outputs": [],
   "source": [
    "transactions_even = {\n",
    "    't1': 'Alice sends 10 BTC to Bob',\n",
    "    't2': 'Charlie sends 2.5 BTC to Bob',\n",
    "    't3': 'Bob sends 5 BTC to Sarah',\n",
    "    't4': 'Bob sends 4.5 BTC to Tim',\n",
    "    't5': 'Sarah sends 1 BTC to Mary',\n",
    "    't6': 'Paul sends 2 BTC to Jessica',\n",
    "    't7': 'Jessica sends 1.5 BTC to Charlie',\n",
    "    't8': 'Jessica sends 0.05 BTC to Carmen'\n",
    "}\n",
    "\n",
    "transactions_uneven = {\n",
    "    't1': 'Alice sends 10 BTC to Bob',\n",
    "    't2': 'Charlie sends 2.5 BTC to Bob',\n",
    "    't3': 'Bob sends 5 BTC to Sarah',\n",
    "    't4': 'Bob sends 4.5 BTC to Tim',\n",
    "    't5': 'Sarah sends 1 BTC to Mary',\n",
    "    't6': 'Paul sends 2 BTC to Jessica',\n",
    "    't7': 'Jessica sends 1.5 BTC to Charlie',\n",
    "    't8': 'Jessica sends 0.05 BTC to Carmen',\n",
    "    't9' : 'Steffan sends 3.12 BTC to Michel'\n",
    "}"
   ]
  },
  {
   "cell_type": "markdown",
   "id": "d64d7ab2",
   "metadata": {},
   "source": [
    "It is up to you to decide if you input the transactions as dictionary or as a list"
   ]
  },
  {
   "cell_type": "code",
   "execution_count": 7,
   "id": "aa01d68e",
   "metadata": {},
   "outputs": [],
   "source": [
    "trans_even = list(transactions_even.values())\n",
    "trans_odd = list(transactions_uneven.values())\n"
   ]
  },
  {
   "cell_type": "markdown",
   "id": "716a7fcc",
   "metadata": {},
   "source": [
    "### Exercise 2.1\n",
    "\n",
    "Implement the class Node()"
   ]
  },
  {
   "cell_type": "code",
   "execution_count": 17,
   "id": "7f322082",
   "metadata": {},
   "outputs": [],
   "source": [
    "class Node():\n",
    "    def __init__(self, leftHP, rightHP):\n",
    "        '''\n",
    "        Store the hash pointers to the two children of the node.\n",
    "        leftHP: The hash pointer to the left child (either a leaf or another node)\n",
    "        rightHP: The hash pointer to the right child (either a leaf or another node)\n",
    "        '''\n",
    "        self.leftHP = leftHP\n",
    "        self.rightHP = rightHP\n",
    "        self.leftChild = None\n",
    "        self.rightChild = None\n",
    "        self.data = None\n",
    "    \n",
    "    def get_left_child(self):\n",
    "        '''\n",
    "        The method returns the left child, the child is either a node or a leaf. The method does \n",
    "        not return the hash pointer to the child, but the entire node object or leaf\n",
    "        leftHP: Hash pointer to the left child\n",
    "        '''\n",
    "        #self.leftChild = ctypes.cast(leftHP['pointer'], ctypes.py_object).value\n",
    "        return self.leftChild\n",
    "        \n",
    "    \n",
    "    def get_right_child(self):\n",
    "        '''\n",
    "        The method returns the right child, the child is either a node or a leaf. The method does \n",
    "        not return the hash pointer to the child, but the entire node object or leaf)\n",
    "        rightHP: Hash pointer to the right child\n",
    "        '''\n",
    "        #self.rightChild = ctypes.cast(rightHP['pointer'], ctypes.py_object).value\n",
    "        return self.rightChild\n",
    "        \n",
    "        "
   ]
  },
  {
   "cell_type": "markdown",
   "id": "1b86cf06",
   "metadata": {},
   "source": [
    "### Exercise 2.2\n",
    "\n",
    "Implement the class MerkleTree()"
   ]
  },
  {
   "cell_type": "code",
   "execution_count": 44,
   "id": "9c88239d",
   "metadata": {},
   "outputs": [],
   "source": [
    "class MerkleTree():\n",
    "    def __init__(self):\n",
    "        '''\n",
    "        Store the Merkle tree and the Merkle root \n",
    "        '''\n",
    "        self.tree = []\n",
    "        self.Mroot = None\n",
    "    \n",
    "    def create_node(self, left, right):\n",
    "        '''\n",
    "        A node contains a hash pointers to each of two data_structures. These data structures are \n",
    "        either of type string (the transactions we use as input) or of type Node object.\n",
    "        Use the class Node() to create nodes. The method returns a newly created node.\n",
    "        \n",
    "        left: left element to which the newly created node should store a hash pointer\n",
    "        right: right element to which the newly created node should store a hash pointer\n",
    "        '''\n",
    "        \n",
    "        leftHP={\n",
    "            'pointer':id(left),\n",
    "            'prev_hash':hash(left)\n",
    "            }\n",
    "        \n",
    "        rightHP= {\n",
    "            'pointer':id(right),\n",
    "            'prev_hash':hash(right)\n",
    "        }\n",
    "        new_node = Node(leftHP,rightHP)\n",
    "\n",
    "        # I decided to set here the right and left child. Maybe it's not super correct but made all the other methods work smoother\n",
    "        new_node.leftChild=left \n",
    "        new_node.rightChild=right\n",
    "        \n",
    "        return new_node\n",
    "        \n",
    "        \n",
    "    \n",
    "    def parents_of_leaves(self, leaves: list):\n",
    "        '''\n",
    "        This method returns the parent nodes of the leaves.\n",
    "        leaves: The leaves are stored in a list (or dictionary, this is up to you) and are of type \n",
    "                string.\n",
    "        '''\n",
    "        leaf_nodes=[] # transform everything in nodes\n",
    "        for leaf in leaves:\n",
    "            node=Node(None,None)\n",
    "            node.data=leaf\n",
    "            leaf_nodes.append(node)\n",
    "        \n",
    "        parents_ledger={}\n",
    "        level=0\n",
    "        while len(leaf_nodes)>1: # untill i reach the root\n",
    "            new_parents = []\n",
    "            level+=1\n",
    "\n",
    "            for i in range(0,len(leaf_nodes),2):# work with pairs\n",
    "                left=leaf_nodes[i]\n",
    "                right=leaf_nodes[i+1] if (i+1) < len(leaf_nodes) else left # this is the condition for working also with odd trees \n",
    "                parent= self.create_node(left,right)\n",
    "                new_parents.append(parent)\n",
    "            \n",
    "            \n",
    "            leaf_nodes=new_parents\n",
    "            parents_ledger[f'parents at level {level}'] = leaf_nodes\n",
    "\n",
    "        self.Mroot= leaf_nodes[0]\n",
    "\n",
    "        \n",
    "        self.tree=leaf_nodes\n",
    "        return parents_ledger\n",
    "     \n",
    "        \n",
    "    def get_parents_from_node_objects(self, nodes: list):\n",
    "        '''\n",
    "        This method returns the parent nodes of nodes of type node object\n",
    "        nodes: The nodes are stored in a list (or dictionary, this is up to you) and are of type node \n",
    "               object.\n",
    "               \n",
    "        Note: hashlib.sha256() unfortunately does not work for node objects. Alternatively you can use\n",
    "              the hash() function from python. The output does not look as fancy and isn't as secure,\n",
    "              but it should do the job of giving you a good idea of how Merkle trees work.\n",
    "        '''\n",
    "        parents_ledger={}\n",
    "        level=0\n",
    "        while len(nodes)>1: # untill i reach the root\n",
    "            new_parents = []\n",
    "            level+=1\n",
    "\n",
    "            for i in range(0,len(nodes),2):# work with pairs\n",
    "                left=nodes[i]\n",
    "                right=nodes[i+1] if (i+1) < len(nodes) else left # this is the condition for also working with odd trees \n",
    "                parent= self.create_node(left,right)\n",
    "                new_parents.append(parent)\n",
    "            \n",
    "            \n",
    "            nodes=new_parents\n",
    "            parents_ledger[f'parents at level {level}'] = nodes\n",
    "\n",
    "        self.Mroot=nodes[0]\n",
    "        self.tree=nodes\n",
    "        return parents_ledger\n",
    "        \n",
    "\n",
    "\n",
    "    \n",
    "    def get_root(self, data):\n",
    "        '''\n",
    "        This method returns the Merkle root of some data. The input data can therefore be considered as\n",
    "        the leaves of the Merkle tree.\n",
    "        data: The data which we use to build the Merkle tree and for which we return the Merkle root.\n",
    "        '''\n",
    "        self.parents_of_leaves(data)\n",
    "        return self.Mroot\n",
    "    \n",
    "    def traverse_Mtree(self,Mroot):\n",
    "    \n",
    "        if Mroot==None:\n",
    "            raise ValueError('Merkle tree doesn\\'t exist yet')\n",
    "        \n",
    "        current_node=Mroot\n",
    "        \n",
    "        while True:\n",
    "            leftC = current_node.get_left_child()\n",
    "            if leftC==None:\n",
    "                break \n",
    "            current_node=leftC\n",
    "\n",
    "        first_leaf=current_node\n",
    "\n",
    "\n",
    "        current_node=Mroot\n",
    "        while True:\n",
    "            rightC = current_node.get_right_child()\n",
    "            \n",
    "            if rightC==None:\n",
    "                break\n",
    "            \n",
    "            current_node=rightC\n",
    "\n",
    "\n",
    "        last_leaf=current_node\n",
    "\n",
    "        return first_leaf.data,last_leaf.data\n",
    "\n",
    "        "
   ]
  },
  {
   "cell_type": "markdown",
   "id": "0bbb3e08",
   "metadata": {},
   "source": [
    "### Exercise 2.3\n",
    "\n",
    "Use your newly implemented classes MerkleTree() and Node() to create a Merkle tree with the sample transactions at the top of this exercise sheet. Show, that your Merkle tree can handle an uneven number of inputs. Return the Merkle root."
   ]
  },
  {
   "cell_type": "code",
   "execution_count": 45,
   "id": "cba00f61",
   "metadata": {},
   "outputs": [],
   "source": [
    "merkletree=MerkleTree()"
   ]
  },
  {
   "cell_type": "code",
   "execution_count": 46,
   "metadata": {},
   "outputs": [
    {
     "data": {
      "text/plain": [
       "{'parents at level 1': [<__main__.Node at 0x1859006f2b0>,\n",
       "  <__main__.Node at 0x1859006e0e0>,\n",
       "  <__main__.Node at 0x1859006c250>,\n",
       "  <__main__.Node at 0x1859006c340>],\n",
       " 'parents at level 2': [<__main__.Node at 0x1859006c370>,\n",
       "  <__main__.Node at 0x1859006c3a0>],\n",
       " 'parents at level 3': [<__main__.Node at 0x1859006c2b0>]}"
      ]
     },
     "execution_count": 46,
     "metadata": {},
     "output_type": "execute_result"
    }
   ],
   "source": [
    "merkletree.parents_of_leaves(trans_even)"
   ]
  },
  {
   "cell_type": "code",
   "execution_count": 47,
   "metadata": {},
   "outputs": [
    {
     "data": {
      "text/plain": [
       "{'parents at level 1': [<__main__.Node at 0x1859006c670>,\n",
       "  <__main__.Node at 0x1859006cb50>,\n",
       "  <__main__.Node at 0x1859006cbe0>,\n",
       "  <__main__.Node at 0x1859006cbb0>,\n",
       "  <__main__.Node at 0x1859006c8b0>],\n",
       " 'parents at level 2': [<__main__.Node at 0x1859006ca00>,\n",
       "  <__main__.Node at 0x1859006c850>,\n",
       "  <__main__.Node at 0x1859006c820>],\n",
       " 'parents at level 3': [<__main__.Node at 0x1859006c790>,\n",
       "  <__main__.Node at 0x1859006c0d0>],\n",
       " 'parents at level 4': [<__main__.Node at 0x1859006c100>]}"
      ]
     },
     "execution_count": 47,
     "metadata": {},
     "output_type": "execute_result"
    }
   ],
   "source": [
    "merkletree.parents_of_leaves(trans_odd)"
   ]
  },
  {
   "cell_type": "code",
   "execution_count": 48,
   "id": "9dbc9961",
   "metadata": {},
   "outputs": [
    {
     "data": {
      "text/plain": [
       "<__main__.Node at 0x1858fdf6020>"
      ]
     },
     "execution_count": 48,
     "metadata": {},
     "output_type": "execute_result"
    }
   ],
   "source": [
    "merkletree.get_root(trans_odd)"
   ]
  },
  {
   "cell_type": "markdown",
   "id": "01dc1c06",
   "metadata": {},
   "source": [
    "Then use the Merkle root to go trough the tree and retrieve the left and rigth leaf. \n"
   ]
  },
  {
   "cell_type": "code",
   "execution_count": 49,
   "metadata": {},
   "outputs": [],
   "source": [
    "r=merkletree.Mroot"
   ]
  },
  {
   "cell_type": "code",
   "execution_count": 59,
   "metadata": {},
   "outputs": [
    {
     "name": "stdout",
     "output_type": "stream",
     "text": [
      "First interpretation: <__main__.Node object at 0x000001858FDF6200> <__main__.Node object at 0x000001858FDF5E70>\n",
      "-----------------------\n",
      "Second interpretation: ('Alice sends 10 BTC to Bob', 'Steffan sends 3.12 BTC to Michel')\n"
     ]
    }
   ],
   "source": [
    "# I was not sure about what the exercise was precisely asking for. Right and left leaf of which node?\n",
    "# In any case i put both the right and left node of the root and the leftmost and rightmost leaf in the tree.\n",
    "# In the second case I returned directly the data inside the leaves (i.e. the transactions themselves, so \n",
    "# it's clearer that they're the first and last transaction of the odd list)\n",
    "print(f'First interpretation: {r.get_left_child()} {r.get_right_child()}')\n",
    "print('-----------------------')\n",
    "print(f'Second interpretation: {merkletree.traverse_Mtree(r)}')\n"
   ]
  },
  {
   "cell_type": "code",
   "execution_count": null,
   "metadata": {},
   "outputs": [],
   "source": []
  }
 ],
 "metadata": {
  "kernelspec": {
   "display_name": "Python 3 (ipykernel)",
   "language": "python",
   "name": "python3"
  },
  "language_info": {
   "codemirror_mode": {
    "name": "ipython",
    "version": 3
   },
   "file_extension": ".py",
   "mimetype": "text/x-python",
   "name": "python",
   "nbconvert_exporter": "python",
   "pygments_lexer": "ipython3",
   "version": "3.10.11"
  }
 },
 "nbformat": 4,
 "nbformat_minor": 5
}
